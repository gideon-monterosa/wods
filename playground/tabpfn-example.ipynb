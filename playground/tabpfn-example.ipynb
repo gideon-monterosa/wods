{
 "cells": [
  {
   "cell_type": "code",
   "outputs": [],
   "source": [
    "import pandas as pd\n",
    "import numpy as np\n",
    "from tabpfn import TabPFNRegressor\n",
    "from sklearn.model_selection import train_test_split\n"
   ],
   "metadata": {
    "collapsed": false,
    "ExecuteTime": {
     "end_time": "2025-03-17T08:15:29.353678Z",
     "start_time": "2025-03-17T08:15:22.895001Z"
    }
   },
   "id": "ac3a3bec04642b2e",
   "execution_count": 1
  },
  {
   "cell_type": "code",
   "execution_count": 2,
   "id": "initial_id",
   "metadata": {
    "collapsed": true,
    "ExecuteTime": {
     "end_time": "2025-03-17T08:15:34.325540Z",
     "start_time": "2025-03-17T08:15:29.356524Z"
    }
   },
   "outputs": [
    {
     "name": "stdout",
     "output_type": "stream",
     "text": [
      "Trainiere Modell für SpeedupThr...\n",
      "Trainiere Modell für SpeedupOmp...\n",
      "\n",
      "Vorhergesagte Werte für 256 Kerne:\n",
      "SpeedupThr: 3.91\n",
      "SpeedupOmp: 3.95\n"
     ]
    }
   ],
   "source": [
    "df = pd.read_csv(\"results.csv\")\n",
    "\n",
    "X = df[[\"ThreadCount\"]]\n",
    "y_vars = [\"SpeedupThr\", \"SpeedupOmp\"]\n",
    "\n",
    "models = {}\n",
    "predictions = {}\n",
    "\n",
    "for y_var in y_vars:\n",
    "    print(f\"Trainiere Modell für {y_var}...\")\n",
    "\n",
    "    y = df[y_var]\n",
    "\n",
    "    X_train, X_test, y_train, y_test = train_test_split(X, y, test_size=0.2, random_state=42)\n",
    "\n",
    "    model = TabPFNRegressor(device='cpu')\n",
    "    model.fit(X_train, y_train)\n",
    "    models[y_var] = model\n",
    "\n",
    "    X_256 = pd.DataFrame([[256]], columns=X.columns)\n",
    "    y_pred = model.predict(X_256)[0]\n",
    "\n",
    "    predictions[y_var] = y_pred\n",
    "\n",
    "print(\"\\nVorhergesagte Werte für 256 Kerne:\")\n",
    "for key, value in predictions.items():\n",
    "    print(f\"{key}: {value:.2f}\")\n"
   ]
  }
 ],
 "metadata": {
  "kernelspec": {
   "display_name": "Python 3",
   "language": "python",
   "name": "python3"
  },
  "language_info": {
   "codemirror_mode": {
    "name": "ipython",
    "version": 2
   },
   "file_extension": ".py",
   "mimetype": "text/x-python",
   "name": "python",
   "nbconvert_exporter": "python",
   "pygments_lexer": "ipython2",
   "version": "2.7.6"
  }
 },
 "nbformat": 4,
 "nbformat_minor": 5
}
